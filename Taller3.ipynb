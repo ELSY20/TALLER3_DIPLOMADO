{
 "cells": [
  {
   "cell_type": "code",
   "execution_count": 4,
   "id": "66c082d5-788b-481c-a610-cab48a792f7e",
   "metadata": {},
   "outputs": [
    {
     "name": "stdin",
     "output_type": "stream",
     "text": [
      "ingresa para cuantas personas necesitas la sala 10\n",
      "cuantas horas necesitas 4\n",
      "UTILIZARAS EL RESTAURANTE, RESPONDE SI O NO NO\n"
     ]
    },
    {
     "name": "stdout",
     "output_type": "stream",
     "text": [
      "EL VALOR DE LA SALA ES  100000\n",
      "EL VALOR DEL PRODUCTO ES  0\n",
      "COSTO DERECHOS NO USO DEL RESTAURANTE  30000\n",
      "EL TOTAL A PAGAR ES 130000\n"
     ]
    }
   ],
   "source": [
    "# VALORES NECESARIOS PARA CREAR UNA SALA\n",
    "salapequeña = {'numerosala' : 1 , 'aforomax' : 20, 'valorhora':10000 }\n",
    "salamediana = {'numerosala' : 2 , 'aforomax' : 30, 'valorhora':20000 }\n",
    "salagrande = {'numerosala' : 3 , 'aforomax' : 40, 'valorhora':30000 }\n",
    "\n",
    "# MENU\n",
    "productone = {'nombreProducto' : 'perro caliente' , 'precio' : 10000}\n",
    "producttwo = {'nombreProducto' : 'palomitas' , 'precio' : 20000}\n",
    "productthree = {'nombreProducto' : 'gaseosa' , 'precio' : 10000}\n",
    "productfour = {'nombreProducto' : 'agua' , 'precio' : 5000}\n",
    "\n",
    "# FACTURA\n",
    "cantidadPersonas = input(\"ingresa para cuantas personas necesitas la sala\")\n",
    "cantidadHoras =  input(\"cuantas horas necesitas\")\n",
    "\n",
    "\n",
    "valorSalaPequeña = salapequeña['valorhora']\n",
    "valorSalaMediana = salamediana['valorhora']\n",
    "valorSalaGrande = salagrande['valorhora']\n",
    "\n",
    "costosala=0\n",
    "\n",
    "if int(cantidadPersonas) <= 20:\n",
    "    costosala = int(cantidadPersonas) * int(valorSalaPequeña)\n",
    "elif int(cantidadPersonas) <= 30:\n",
    "    costosala = int(cantidadPersonas) * int(valorSalaMediana)\n",
    "elif int(cantidadPersonas) <= 40:\n",
    "    costosala = int(cantidadPersonas) * int(valorSalaGrande)\n",
    "elif int(cantidadPersonas) > 40:\n",
    "    print(\"CUPOS INSUFICIENTES\")\n",
    "\n",
    "    \n",
    "# por si no compran en el restaurante del negocio\n",
    "derechosNoMenu = costosala * 30 / 100\n",
    "\n",
    "respuestaRestaurante = input(\"UTILIZARAS EL RESTAURANTE, RESPONDE SI O NO\")\n",
    "\n",
    "\n",
    "if respuestaRestaurante == \"SI\":\n",
    "    # mostrar menu\n",
    "    print(\"MENU DE PRODUCTOS\")\n",
    "    print(\"PRODUCTO 1 => \", productone['nombreProducto'],productone['precio'])\n",
    "    print(\"PRODUCTO 2 => \", producttwo['nombreProducto'],producttwo['precio'])\n",
    "    print(\"PRODUCTO 3 => \", productthree['nombreProducto'],productthree['precio'])\n",
    "    print(\"PRODUCTO 4 => \", productfour['nombreProducto'],productfour['precio'])\n",
    "    productoElegido = input(\"ELIGE UN PRODUCTO\")\n",
    "    # Dependiendo del numero ingresado guardara el valor del producto\n",
    "    if int(productoElegido) == 1:\n",
    "        preciomenu = productone['precio']\n",
    "        derechosNoMenu=0\n",
    "    elif int(productoElegido) == 2:\n",
    "        preciomenu = producttwo['precio']\n",
    "        derechosNoMenu=0\n",
    "    elif int(productoElegido) == 3:\n",
    "        preciomenu = productthree['precio']\n",
    "        derechosNoMenu=0\n",
    "    elif int(productoElegido) == 4:\n",
    "        preciomenu = productfour['precio']\n",
    "        derechosNoMenu=0\n",
    "else:\n",
    "    preciomenu=0\n",
    "   \n",
    "\n",
    "# factura\n",
    "print(\"EL VALOR DE LA SALA ES \", costosala)\n",
    "print(\"EL VALOR DEL PRODUCTO ES \", preciomenu)\n",
    "print(\"COSTO DERECHOS NO USO DEL RESTAURANTE \", int(derechosNoMenu))\n",
    "\n",
    "total = costosala + preciomenu + derechosNoMenu\n",
    "print(\"EL TOTAL A PAGAR ES\", int(total))"
   ]
  },
  {
   "cell_type": "code",
   "execution_count": null,
   "id": "4f5bd71e-992e-4c12-8b5c-445dbcabf677",
   "metadata": {},
   "outputs": [],
   "source": []
  }
 ],
 "metadata": {
  "kernelspec": {
   "display_name": "Python 3 (ipykernel)",
   "language": "python",
   "name": "python3"
  },
  "language_info": {
   "codemirror_mode": {
    "name": "ipython",
    "version": 3
   },
   "file_extension": ".py",
   "mimetype": "text/x-python",
   "name": "python",
   "nbconvert_exporter": "python",
   "pygments_lexer": "ipython3",
   "version": "3.9.12"
  }
 },
 "nbformat": 4,
 "nbformat_minor": 5
}
